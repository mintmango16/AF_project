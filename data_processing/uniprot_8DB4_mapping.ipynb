{
 "cells": [
  {
   "cell_type": "code",
   "execution_count": 1,
   "id": "c9ef2327",
   "metadata": {},
   "outputs": [
    {
     "name": "stderr",
     "output_type": "stream",
     "text": [
      "C:\\Users\\asia\\AppData\\Roaming\\Python\\Python312\\site-packages\\Bio\\pairwise2.py:278: BiopythonDeprecationWarning: Bio.pairwise2 has been deprecated, and we intend to remove it in a future release of Biopython. As an alternative, please consider using Bio.Align.PairwiseAligner as a replacement, and contact the Biopython developers if you still need the Bio.pairwise2 module.\n",
      "  warnings.warn(\n"
     ]
    }
   ],
   "source": [
    "from pathlib import Path\n",
    "import re, requests, pandas as pd\n",
    "from Bio.PDB import PDBParser, PDBIO, Select\n",
    "from Bio.SeqUtils import seq1\n",
    "from Bio import pairwise2\n",
    "\n",
    "UNIPROT_ID = \"Q6PSU2\"\n",
    "# ↓ 이미 만들어 둔 전처리 PDB (체인 E + protein-only)\n",
    "PDB_FILE = Path(r\"D:/final/8DB4/8DB4_mono/8DB4_AraH2_chainE_proteinOnly.pdb\")\n",
    "PREFERRED_CHAIN_ID = \"E\"\n",
    "\n",
    "# === 0) 출력 폴더 ===\n",
    "OUT_DIR = PDB_FILE.parent / \"mapping_out\"\n",
    "OUT_DIR.mkdir(parents=True, exist_ok=True)\n",
    "CSV_PATH = OUT_DIR / f\"{UNIPROT_ID}_to_8DB4_chainE_mapping.csv\""
   ]
  },
  {
   "cell_type": "markdown",
   "id": "e2779be9",
   "metadata": {},
   "source": [
    "# PDB 8DB4 chain E에서 모델링된 폴리펩타이드/CA 개수 확인"
   ]
  },
  {
   "cell_type": "code",
   "execution_count": 6,
   "id": "f83568b7",
   "metadata": {},
   "outputs": [
    {
     "name": "stdout",
     "output_type": "stream",
     "text": [
      "polymer residues with coords: 95 | with CA: 95\n"
     ]
    }
   ],
   "source": [
    "from Bio.PDB import PDBParser\n",
    "from pathlib import Path\n",
    "\n",
    "pdb_path = Path(r\"D:/final/8DB4/8DB4_mono/8DB4_AraH2_chainE.pdb\")\n",
    "s = PDBParser(QUIET=True).get_structure(\"s\", str(pdb_path))\n",
    "E = next(s.get_models())[ \"E\" ]\n",
    "\n",
    "n_poly = sum(1 for r in E if r.id[0] == \" \")\n",
    "n_ca   = sum(1 for r in E if r.id[0] == \" \" and r.has_id(\"CA\"))\n",
    "print(\"polymer residues with coords:\", n_poly, \"| with CA:\", n_ca)"
   ]
  },
  {
   "cell_type": "markdown",
   "id": "2c1c4540",
   "metadata": {},
   "source": [
    "132 aa = 엔티티/서열 길이(SEQRES 기준, “있어야 할 잔기” 수)\n",
    "\n",
    "95 aa = ATOM 좌표가 실제로 모델링된 잔기 수\n",
    "\n",
    "HET 제거/altloc 처리 때문에 132에서 95 aa로 줄어든 게 아니라, 원래 그 잔기들에 좌표가 없어서(불질서 루프 등) 파일에 존재하지 않음"
   ]
  },
  {
   "cell_type": "code",
   "execution_count": 2,
   "id": "f23d84dd",
   "metadata": {},
   "outputs": [
    {
     "name": "stdout",
     "output_type": "stream",
     "text": [
      "[UniProt] Q6PSU2 length = 172 aa\n"
     ]
    }
   ],
   "source": [
    "# === 1) UniProt 서열 ===\n",
    "fa = requests.get(f\"https://www.uniprot.org/uniprotkb/{UNIPROT_ID}.fasta\", timeout=60).text\n",
    "seq_uniprot = \"\".join(re.findall(r\"[A-Za-z]+\", fa.split(\"\\n\",1)[1]))\n",
    "print(f\"[UniProt] {UNIPROT_ID} length = {len(seq_uniprot)} aa\")"
   ]
  },
  {
   "cell_type": "code",
   "execution_count": 3,
   "id": "715ef540",
   "metadata": {},
   "outputs": [
    {
     "name": "stdout",
     "output_type": "stream",
     "text": [
      "[PDB] Chain E modeled length = 95 aa\n"
     ]
    }
   ],
   "source": [
    "# === 2) PDB 파싱 (이미 전처리된 파일 사용) ===\n",
    "assert PDB_FILE.exists() and PDB_FILE.stat().st_size > 0, f\"파일이 없거나 비어있음: {PDB_FILE}\"\n",
    "s = PDBParser(QUIET=True).get_structure(\"s\", str(PDB_FILE))\n",
    "\n",
    "models = list(s.get_models())\n",
    "if not models:\n",
    "    raise RuntimeError(\"ATOM 레코드가 없습니다. 전처리 파일을 확인하세요.\")\n",
    "model = models[0]\n",
    "\n",
    "chain_ids = [c.id for c in model]\n",
    "if PREFERRED_CHAIN_ID in chain_ids:\n",
    "    CHAIN_ID = PREFERRED_CHAIN_ID\n",
    "elif len(chain_ids) == 1:\n",
    "    CHAIN_ID = chain_ids[0]\n",
    "    print(f\"[warn] '{PREFERRED_CHAIN_ID}' 체인이 없어 '{CHAIN_ID}' 체인을 사용합니다.\")\n",
    "else:\n",
    "    raise KeyError(f\"원하는 체인('{PREFERRED_CHAIN_ID}')이 없고, 체인이 여러 개입니다: {chain_ids}\")\n",
    "\n",
    "chain = model[CHAIN_ID]\n",
    "\n",
    "# 폴리펩타이드 잔기만 수집 → (one-letter, resseq, icode) 리스트\n",
    "res_records = []\n",
    "for res in chain:\n",
    "    hetflag, resseq, icode = res.id\n",
    "    if hetflag != \" \":\n",
    "        continue\n",
    "    name3 = res.get_resname()\n",
    "    try:\n",
    "        aa = seq1(name3, custom_map={\"MSE\":\"M\", \"HYP\":\"P\"})\n",
    "    except KeyError:\n",
    "        aa = {\"MSE\":\"M\"}.get(name3, \"X\")  # 필요 시 확장\n",
    "    res_records.append((aa, resseq, icode or \"\"))\n",
    "\n",
    "seq_pdb = \"\".join([r[0] for r in res_records])\n",
    "print(f\"[PDB] Chain {CHAIN_ID} modeled length = {len(seq_pdb)} aa\")"
   ]
  },
  {
   "cell_type": "code",
   "execution_count": 7,
   "id": "9c180e4c",
   "metadata": {},
   "outputs": [],
   "source": [
    "# === 3) 글로벌 정렬 (UniProt vs PDB 체인) ===\n",
    "aln = pairwise2.align.globalms(seq_uniprot, seq_pdb, 2, -1, -10, -0.5, one_alignment_only=True)[0]\n",
    "A, B = aln.seqA, aln.seqB"
   ]
  },
  {
   "cell_type": "code",
   "execution_count": 8,
   "id": "2fb2c37b",
   "metadata": {},
   "outputs": [],
   "source": [
    "# === 4) 매핑 테이블 구축 ===\n",
    "rows = []\n",
    "ui = pi = 0  # 1-based\n",
    "mismatch = 0\n",
    "for a, b in zip(A, B):\n",
    "    if a != \"-\": ui += 1\n",
    "    if b != \"-\": pi += 1\n",
    "    if a != \"-\" and b != \"-\":\n",
    "        aa_u = a\n",
    "        aa_p, resseq, icode = res_records[pi-1]\n",
    "        rows.append({\n",
    "            \"uniprot_pos\": ui,\n",
    "            \"uniprot_aa\": aa_u,\n",
    "            \"pdb_chain\": CHAIN_ID,\n",
    "            \"pdb_modeled_index\": pi,   # 체인 내 1..N\n",
    "            \"pdb_resseq\": resseq,      # author residue number\n",
    "            \"pdb_icode\": icode,\n",
    "            \"pdb_aa\": aa_p,\n",
    "            \"match\": int(aa_u == aa_p),\n",
    "        })\n",
    "        if aa_u != aa_p:\n",
    "            mismatch += 1\n",
    "    elif a != \"-\" and b == \"-\":\n",
    "        rows.append({\n",
    "            \"uniprot_pos\": ui,\n",
    "            \"uniprot_aa\": a,\n",
    "            \"pdb_chain\": None,\n",
    "            \"pdb_modeled_index\": None,\n",
    "            \"pdb_resseq\": None,\n",
    "            \"pdb_icode\": None,\n",
    "            \"pdb_aa\": None,\n",
    "            \"match\": None,\n",
    "        })\n",
    "    elif a == \"-\" and b != \"-\":\n",
    "        aa_p, resseq, icode = res_records[pi-1]\n",
    "        rows.append({\n",
    "            \"uniprot_pos\": None,\n",
    "            \"uniprot_aa\": None,\n",
    "            \"pdb_chain\": CHAIN_ID,\n",
    "            \"pdb_modeled_index\": pi,\n",
    "            \"pdb_resseq\": resseq,\n",
    "            \"pdb_icode\": icode,\n",
    "            \"pdb_aa\": aa_p,\n",
    "            \"match\": None,\n",
    "        })\n",
    "\n",
    "df = pd.DataFrame(rows)"
   ]
  },
  {
   "cell_type": "code",
   "execution_count": 9,
   "id": "109367f5",
   "metadata": {},
   "outputs": [
    {
     "name": "stdout",
     "output_type": "stream",
     "text": [
      "\n",
      "=== Summary ===\n",
      "UniProt length: 172\n",
      "PDB modeled length (chain E): 95\n",
      "Mapped positions: 95\n",
      "Uniprot-only (no structure): 77\n",
      "PDB-only (no UniProt counterpart): 0\n",
      "Mismatches in mapped positions: 2\n",
      "\n",
      "Saved mapping CSV -> D:\\final\\8DB4\\8DB4_mono\\mapping_out\\Q6PSU2_to_8DB4_chainE_mapping.csv\n"
     ]
    }
   ],
   "source": [
    "# === 5) 요약 + 저장 ===\n",
    "mapped = df.dropna(subset=[\"uniprot_pos\",\"pdb_modeled_index\"])\n",
    "uniprot_only = df[df[\"pdb_modeled_index\"].isna() & df[\"uniprot_pos\"].notna()]\n",
    "pdb_only = df[df[\"uniprot_pos\"].isna() & df[\"pdb_modeled_index\"].notna()]\n",
    "\n",
    "print(\"\\n=== Summary ===\")\n",
    "print(f\"UniProt length: {len(seq_uniprot)}\")\n",
    "print(f\"PDB modeled length (chain {CHAIN_ID}): {len(seq_pdb)}\")\n",
    "print(f\"Mapped positions: {len(mapped)}\")\n",
    "print(f\"Uniprot-only (no structure): {len(uniprot_only)}\")\n",
    "print(f\"PDB-only (no UniProt counterpart): {len(pdb_only)}\")\n",
    "print(f\"Mismatches in mapped positions: {mismatch}\")\n",
    "\n",
    "cols = [\"uniprot_pos\",\"uniprot_aa\",\"pdb_chain\",\"pdb_modeled_index\",\"pdb_resseq\",\"pdb_icode\",\"pdb_aa\",\"match\"]\n",
    "df_sorted = df.sort_values(by=[\"uniprot_pos\",\"pdb_modeled_index\"], na_position=\"last\")[cols]\n",
    "df_sorted.to_csv(CSV_PATH, index=False, encoding=\"utf-8\")\n",
    "print(f\"\\nSaved mapping CSV -> {CSV_PATH}\")"
   ]
  }
 ],
 "metadata": {
  "kernelspec": {
   "display_name": "Python 3",
   "language": "python",
   "name": "python3"
  },
  "language_info": {
   "codemirror_mode": {
    "name": "ipython",
    "version": 3
   },
   "file_extension": ".py",
   "mimetype": "text/x-python",
   "name": "python",
   "nbconvert_exporter": "python",
   "pygments_lexer": "ipython3",
   "version": "3.12.9"
  }
 },
 "nbformat": 4,
 "nbformat_minor": 5
}
